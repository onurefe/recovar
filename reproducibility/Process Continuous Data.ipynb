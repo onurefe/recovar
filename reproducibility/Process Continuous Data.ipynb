{
 "cells": [
  {
   "cell_type": "markdown",
   "id": "3961d5d7",
   "metadata": {},
   "source": [
    "# Process Continuous Data (SILIVRI)"
   ]
  },
  {
   "cell_type": "code",
   "execution_count": 17,
   "id": "f1cd0594",
   "metadata": {},
   "outputs": [],
   "source": [
    "import os\n",
    "import obspy"
   ]
  },
  {
   "cell_type": "code",
   "execution_count": 1,
   "id": "a347a9bf",
   "metadata": {},
   "outputs": [],
   "source": [
    "catalog_path = \"/home/boxx/Public/earthquake_model_evaluations/data/SilivriPaper_2019-09-01__2019-11-30/processed_catalogs/afad_catalog.csv\"\n",
    "waveforms_dir = \"/home/boxx/Public/earthquake_model_evaluations/data/SilivriPaper_2019-09-01__2019-11-30/prepared_waveforms/day_by_day\""
   ]
  },
  {
   "cell_type": "code",
   "execution_count": 9,
   "id": "5a8fb2ee",
   "metadata": {},
   "outputs": [
    {
     "data": {
      "text/plain": [
       "['/home/boxx/Public/earthquake_model_evaluations/data/SilivriPaper_2019-09-01__2019-11-30/prepared_waveforms/day_by_day/ADVT',\n",
       " '/home/boxx/Public/earthquake_model_evaluations/data/SilivriPaper_2019-09-01__2019-11-30/prepared_waveforms/day_by_day/CTKS',\n",
       " '/home/boxx/Public/earthquake_model_evaluations/data/SilivriPaper_2019-09-01__2019-11-30/prepared_waveforms/day_by_day/ERIK',\n",
       " '/home/boxx/Public/earthquake_model_evaluations/data/SilivriPaper_2019-09-01__2019-11-30/prepared_waveforms/day_by_day/TKR',\n",
       " '/home/boxx/Public/earthquake_model_evaluations/data/SilivriPaper_2019-09-01__2019-11-30/prepared_waveforms/day_by_day/IZI',\n",
       " '/home/boxx/Public/earthquake_model_evaluations/data/SilivriPaper_2019-09-01__2019-11-30/prepared_waveforms/day_by_day/SLVT',\n",
       " '/home/boxx/Public/earthquake_model_evaluations/data/SilivriPaper_2019-09-01__2019-11-30/prepared_waveforms/day_by_day/UKOP',\n",
       " '/home/boxx/Public/earthquake_model_evaluations/data/SilivriPaper_2019-09-01__2019-11-30/prepared_waveforms/day_by_day/BGKT',\n",
       " '/home/boxx/Public/earthquake_model_evaluations/data/SilivriPaper_2019-09-01__2019-11-30/prepared_waveforms/day_by_day/MRMT',\n",
       " '/home/boxx/Public/earthquake_model_evaluations/data/SilivriPaper_2019-09-01__2019-11-30/prepared_waveforms/day_by_day/ISK',\n",
       " '/home/boxx/Public/earthquake_model_evaluations/data/SilivriPaper_2019-09-01__2019-11-30/prepared_waveforms/day_by_day/KRBG',\n",
       " '/home/boxx/Public/earthquake_model_evaluations/data/SilivriPaper_2019-09-01__2019-11-30/prepared_waveforms/day_by_day/KLYT',\n",
       " '/home/boxx/Public/earthquake_model_evaluations/data/SilivriPaper_2019-09-01__2019-11-30/prepared_waveforms/day_by_day/YLV',\n",
       " '/home/boxx/Public/earthquake_model_evaluations/data/SilivriPaper_2019-09-01__2019-11-30/prepared_waveforms/day_by_day/KCTX',\n",
       " '/home/boxx/Public/earthquake_model_evaluations/data/SilivriPaper_2019-09-01__2019-11-30/prepared_waveforms/day_by_day/ARMT',\n",
       " '/home/boxx/Public/earthquake_model_evaluations/data/SilivriPaper_2019-09-01__2019-11-30/prepared_waveforms/day_by_day/ORLT',\n",
       " '/home/boxx/Public/earthquake_model_evaluations/data/SilivriPaper_2019-09-01__2019-11-30/prepared_waveforms/day_by_day/OSMT',\n",
       " '/home/boxx/Public/earthquake_model_evaluations/data/SilivriPaper_2019-09-01__2019-11-30/prepared_waveforms/day_by_day/LAP',\n",
       " '/home/boxx/Public/earthquake_model_evaluations/data/SilivriPaper_2019-09-01__2019-11-30/prepared_waveforms/day_by_day/KAVV',\n",
       " '/home/boxx/Public/earthquake_model_evaluations/data/SilivriPaper_2019-09-01__2019-11-30/prepared_waveforms/day_by_day/GONE',\n",
       " '/home/boxx/Public/earthquake_model_evaluations/data/SilivriPaper_2019-09-01__2019-11-30/prepared_waveforms/day_by_day/CRLT',\n",
       " '/home/boxx/Public/earthquake_model_evaluations/data/SilivriPaper_2019-09-01__2019-11-30/prepared_waveforms/day_by_day/GELI',\n",
       " '/home/boxx/Public/earthquake_model_evaluations/data/SilivriPaper_2019-09-01__2019-11-30/prepared_waveforms/day_by_day/HRTX',\n",
       " '/home/boxx/Public/earthquake_model_evaluations/data/SilivriPaper_2019-09-01__2019-11-30/prepared_waveforms/day_by_day/RKY',\n",
       " '/home/boxx/Public/earthquake_model_evaluations/data/SilivriPaper_2019-09-01__2019-11-30/prepared_waveforms/day_by_day/CTYL',\n",
       " '/home/boxx/Public/earthquake_model_evaluations/data/SilivriPaper_2019-09-01__2019-11-30/prepared_waveforms/day_by_day/MDNY',\n",
       " '/home/boxx/Public/earthquake_model_evaluations/data/SilivriPaper_2019-09-01__2019-11-30/prepared_waveforms/day_by_day/SILT',\n",
       " '/home/boxx/Public/earthquake_model_evaluations/data/SilivriPaper_2019-09-01__2019-11-30/prepared_waveforms/day_by_day/EZN',\n",
       " '/home/boxx/Public/earthquake_model_evaluations/data/SilivriPaper_2019-09-01__2019-11-30/prepared_waveforms/day_by_day/CAVI']"
      ]
     },
     "execution_count": 9,
     "metadata": {},
     "output_type": "execute_result"
    }
   ],
   "source": [
    "station_dirs = []\n",
    "for (root, dirs, files) in os.walk(waveforms_dir):\n",
    "    for dir in dirs:\n",
    "        station_dirs.append(os.path.join(waveforms_dir,dir)) \n",
    "station_dirs"
   ]
  },
  {
   "cell_type": "code",
   "execution_count": 16,
   "id": "3b33a0b3",
   "metadata": {},
   "outputs": [
    {
     "name": "stdout",
     "output_type": "stream",
     "text": [
      "ADVT\n",
      "273\n",
      "--------------------------------\n",
      "CTKS\n",
      "273\n",
      "--------------------------------\n",
      "ERIK\n",
      "273\n",
      "--------------------------------\n",
      "TKR\n",
      "273\n",
      "--------------------------------\n",
      "IZI\n",
      "273\n",
      "--------------------------------\n",
      "SLVT\n",
      "243\n",
      "--------------------------------\n",
      "UKOP\n",
      "273\n",
      "--------------------------------\n",
      "BGKT\n",
      "273\n",
      "--------------------------------\n",
      "MRMT\n",
      "273\n",
      "--------------------------------\n",
      "ISK\n",
      "270\n",
      "--------------------------------\n",
      "KRBG\n",
      "273\n",
      "--------------------------------\n",
      "KLYT\n",
      "273\n",
      "--------------------------------\n",
      "YLV\n",
      "273\n",
      "--------------------------------\n",
      "KCTX\n",
      "102\n",
      "--------------------------------\n",
      "ARMT\n",
      "264\n",
      "--------------------------------\n",
      "ORLT\n",
      "273\n",
      "--------------------------------\n",
      "OSMT\n",
      "273\n",
      "--------------------------------\n",
      "LAP\n",
      "204\n",
      "--------------------------------\n",
      "KAVV\n",
      "231\n",
      "--------------------------------\n",
      "GONE\n",
      "273\n",
      "--------------------------------\n",
      "CRLT\n",
      "162\n",
      "--------------------------------\n",
      "GELI\n",
      "273\n",
      "--------------------------------\n",
      "HRTX\n",
      "273\n",
      "--------------------------------\n",
      "RKY\n",
      "162\n",
      "--------------------------------\n",
      "CTYL\n",
      "273\n",
      "--------------------------------\n",
      "MDNY\n",
      "273\n",
      "--------------------------------\n",
      "SILT\n",
      "180\n",
      "--------------------------------\n",
      "EZN\n",
      "273\n",
      "--------------------------------\n",
      "CAVI\n",
      "144\n",
      "--------------------------------\n"
     ]
    }
   ],
   "source": [
    "for station in station_dirs:\n",
    "    print(station.split('/')[-1])\n",
    "    for (root, dirs, files) in os.walk(station):\n",
    "        print(len(files))\n",
    "        print('--------------------------------')"
   ]
  },
  {
   "cell_type": "code",
   "execution_count": null,
   "id": "168e15e0",
   "metadata": {},
   "outputs": [],
   "source": []
  }
 ],
 "metadata": {
  "kernelspec": {
   "display_name": "onur-tfgpu",
   "language": "python",
   "name": "python3"
  },
  "language_info": {
   "codemirror_mode": {
    "name": "ipython",
    "version": 3
   },
   "file_extension": ".py",
   "mimetype": "text/x-python",
   "name": "python",
   "nbconvert_exporter": "python",
   "pygments_lexer": "ipython3",
   "version": "3.10.13"
  }
 },
 "nbformat": 4,
 "nbformat_minor": 5
}
