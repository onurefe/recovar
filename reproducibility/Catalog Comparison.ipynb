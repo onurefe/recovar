{
 "cells": [
  {
   "cell_type": "markdown",
   "id": "0b7ac44a",
   "metadata": {},
   "source": [
    "# Catalog Comparison \n",
    "\n",
    "The aim of this notebook is to compare the available catalogs with each other for Silivri Earthquake data. "
   ]
  },
  {
   "cell_type": "code",
   "execution_count": 4,
   "id": "c397e69e",
   "metadata": {},
   "outputs": [],
   "source": [
    "import os \n",
    "import pandas as pd"
   ]
  },
  {
   "cell_type": "code",
   "execution_count": 3,
   "id": "536b15e5",
   "metadata": {},
   "outputs": [],
   "source": [
    "catalogs_dir = '/home/boxx/Public/earthquake_model_evaluations/data/SilivriPaper_2019-09-01__2019-11-30/processed_catalogs'\n",
    "afad_cat = os.path.join(catalogs_dir,'afad_catalog.csv')\n",
    "kara74_cat = os.path.join(catalogs_dir, 'kara74a_phase_picks.csv')\n",
    "sezim_cat = os.path.join(catalogs_dir, 'sezim_hoca_silivri2019.csv')\n",
    "kandilli_cat = os.path.join(catalogs_dir, 'kandilli_catalog.csv')"
   ]
  },
  {
   "cell_type": "code",
   "execution_count": 5,
   "id": "1d7f81b8",
   "metadata": {},
   "outputs": [],
   "source": [
    "afad_df= pd.read_csv(afad_cat)\n",
    "kara74_df= pd.read_csv(kara74_cat)\n",
    "sezim_df= pd.read_csv(sezim_cat)\n",
    "kandilli_df= pd.read_csv(kandilli_cat)"
   ]
  },
  {
   "cell_type": "code",
   "execution_count": 6,
   "id": "8080dd22",
   "metadata": {},
   "outputs": [
    {
     "data": {
      "text/html": [
       "<div>\n",
       "<style scoped>\n",
       "    .dataframe tbody tr th:only-of-type {\n",
       "        vertical-align: middle;\n",
       "    }\n",
       "\n",
       "    .dataframe tbody tr th {\n",
       "        vertical-align: top;\n",
       "    }\n",
       "\n",
       "    .dataframe thead th {\n",
       "        text-align: right;\n",
       "    }\n",
       "</style>\n",
       "<table border=\"1\" class=\"dataframe\">\n",
       "  <thead>\n",
       "    <tr style=\"text-align: right;\">\n",
       "      <th></th>\n",
       "      <th>orgtime</th>\n",
       "      <th>station</th>\n",
       "      <th>p_arrival_time</th>\n",
       "      <th>s_arrival_time</th>\n",
       "      <th>event_lat</th>\n",
       "      <th>event_lon</th>\n",
       "      <th>event_dep</th>\n",
       "    </tr>\n",
       "  </thead>\n",
       "  <tbody>\n",
       "    <tr>\n",
       "      <th>0</th>\n",
       "      <td>2019-08-31T21:07:15</td>\n",
       "      <td>GCAM</td>\n",
       "      <td>2019-08-31T21:07:23.670000</td>\n",
       "      <td>NaN</td>\n",
       "      <td>37.559</td>\n",
       "      <td>26.785</td>\n",
       "      <td>6.9</td>\n",
       "    </tr>\n",
       "    <tr>\n",
       "      <th>1</th>\n",
       "      <td>2019-08-31T21:07:15</td>\n",
       "      <td>DDIM</td>\n",
       "      <td>2019-08-31T21:07:23.970000</td>\n",
       "      <td>NaN</td>\n",
       "      <td>37.559</td>\n",
       "      <td>26.785</td>\n",
       "      <td>6.9</td>\n",
       "    </tr>\n",
       "    <tr>\n",
       "      <th>2</th>\n",
       "      <td>2019-08-31T21:07:15</td>\n",
       "      <td>DGB</td>\n",
       "      <td>2019-08-31T21:07:25.660000</td>\n",
       "      <td>NaN</td>\n",
       "      <td>37.559</td>\n",
       "      <td>26.785</td>\n",
       "      <td>6.9</td>\n",
       "    </tr>\n",
       "    <tr>\n",
       "      <th>3</th>\n",
       "      <td>2019-08-31T21:07:15</td>\n",
       "      <td>ZEYE</td>\n",
       "      <td>2019-08-31T21:07:29.740000</td>\n",
       "      <td>NaN</td>\n",
       "      <td>37.559</td>\n",
       "      <td>26.785</td>\n",
       "      <td>6.9</td>\n",
       "    </tr>\n",
       "    <tr>\n",
       "      <th>4</th>\n",
       "      <td>2019-08-31T21:07:15</td>\n",
       "      <td>BDRM</td>\n",
       "      <td>2019-08-31T21:07:29.760000</td>\n",
       "      <td>NaN</td>\n",
       "      <td>37.559</td>\n",
       "      <td>26.785</td>\n",
       "      <td>6.9</td>\n",
       "    </tr>\n",
       "  </tbody>\n",
       "</table>\n",
       "</div>"
      ],
      "text/plain": [
       "               orgtime station              p_arrival_time s_arrival_time  \\\n",
       "0  2019-08-31T21:07:15    GCAM  2019-08-31T21:07:23.670000            NaN   \n",
       "1  2019-08-31T21:07:15    DDIM  2019-08-31T21:07:23.970000            NaN   \n",
       "2  2019-08-31T21:07:15     DGB  2019-08-31T21:07:25.660000            NaN   \n",
       "3  2019-08-31T21:07:15    ZEYE  2019-08-31T21:07:29.740000            NaN   \n",
       "4  2019-08-31T21:07:15    BDRM  2019-08-31T21:07:29.760000            NaN   \n",
       "\n",
       "   event_lat  event_lon  event_dep  \n",
       "0     37.559     26.785        6.9  \n",
       "1     37.559     26.785        6.9  \n",
       "2     37.559     26.785        6.9  \n",
       "3     37.559     26.785        6.9  \n",
       "4     37.559     26.785        6.9  "
      ]
     },
     "execution_count": 6,
     "metadata": {},
     "output_type": "execute_result"
    }
   ],
   "source": [
    "afad_df.head()"
   ]
  },
  {
   "cell_type": "code",
   "execution_count": 8,
   "id": "f3cd3824",
   "metadata": {},
   "outputs": [
    {
     "data": {
      "text/html": [
       "<div>\n",
       "<style scoped>\n",
       "    .dataframe tbody tr th:only-of-type {\n",
       "        vertical-align: middle;\n",
       "    }\n",
       "\n",
       "    .dataframe tbody tr th {\n",
       "        vertical-align: top;\n",
       "    }\n",
       "\n",
       "    .dataframe thead th {\n",
       "        text-align: right;\n",
       "    }\n",
       "</style>\n",
       "<table border=\"1\" class=\"dataframe\">\n",
       "  <thead>\n",
       "    <tr style=\"text-align: right;\">\n",
       "      <th></th>\n",
       "      <th>orgtime</th>\n",
       "      <th>station</th>\n",
       "      <th>p_arrival_time</th>\n",
       "      <th>s_arrival_time</th>\n",
       "      <th>event_lat</th>\n",
       "      <th>event_lon</th>\n",
       "      <th>event_dep</th>\n",
       "    </tr>\n",
       "  </thead>\n",
       "  <tbody>\n",
       "    <tr>\n",
       "      <th>0</th>\n",
       "      <td>2019-01-11T06:46:35.210000</td>\n",
       "      <td>SLVT</td>\n",
       "      <td>2019-01-11T06:46:43.046741</td>\n",
       "      <td>2019-01-11T06:46:48.797343</td>\n",
       "      <td>40.8649</td>\n",
       "      <td>28.2378</td>\n",
       "      <td>10.0</td>\n",
       "    </tr>\n",
       "    <tr>\n",
       "      <th>1</th>\n",
       "      <td>2019-01-11T06:46:35.210000</td>\n",
       "      <td>BGKT</td>\n",
       "      <td>2019-01-11T06:46:44.702938</td>\n",
       "      <td>2019-01-11T06:46:51.709377</td>\n",
       "      <td>40.8649</td>\n",
       "      <td>28.2378</td>\n",
       "      <td>10.0</td>\n",
       "    </tr>\n",
       "    <tr>\n",
       "      <th>2</th>\n",
       "      <td>2019-01-11T06:46:35.210000</td>\n",
       "      <td>ISK</td>\n",
       "      <td>2019-01-11T06:46:47.390843</td>\n",
       "      <td>2019-01-11T06:46:56.035244</td>\n",
       "      <td>40.8649</td>\n",
       "      <td>28.2378</td>\n",
       "      <td>10.0</td>\n",
       "    </tr>\n",
       "    <tr>\n",
       "      <th>3</th>\n",
       "      <td>2019-01-11T06:46:35.210000</td>\n",
       "      <td>KLYT</td>\n",
       "      <td>2019-01-11T06:46:48.628002</td>\n",
       "      <td>2019-01-11T06:46:58.414964</td>\n",
       "      <td>40.8649</td>\n",
       "      <td>28.2378</td>\n",
       "      <td>10.0</td>\n",
       "    </tr>\n",
       "    <tr>\n",
       "      <th>4</th>\n",
       "      <td>2019-01-11T06:46:35.210000</td>\n",
       "      <td>CTYL</td>\n",
       "      <td>NaN</td>\n",
       "      <td>2019-01-11T06:46:55.147751</td>\n",
       "      <td>40.8649</td>\n",
       "      <td>28.2378</td>\n",
       "      <td>10.0</td>\n",
       "    </tr>\n",
       "  </tbody>\n",
       "</table>\n",
       "</div>"
      ],
      "text/plain": [
       "                      orgtime station              p_arrival_time  \\\n",
       "0  2019-01-11T06:46:35.210000    SLVT  2019-01-11T06:46:43.046741   \n",
       "1  2019-01-11T06:46:35.210000    BGKT  2019-01-11T06:46:44.702938   \n",
       "2  2019-01-11T06:46:35.210000     ISK  2019-01-11T06:46:47.390843   \n",
       "3  2019-01-11T06:46:35.210000    KLYT  2019-01-11T06:46:48.628002   \n",
       "4  2019-01-11T06:46:35.210000    CTYL                         NaN   \n",
       "\n",
       "               s_arrival_time  event_lat  event_lon  event_dep  \n",
       "0  2019-01-11T06:46:48.797343    40.8649    28.2378       10.0  \n",
       "1  2019-01-11T06:46:51.709377    40.8649    28.2378       10.0  \n",
       "2  2019-01-11T06:46:56.035244    40.8649    28.2378       10.0  \n",
       "3  2019-01-11T06:46:58.414964    40.8649    28.2378       10.0  \n",
       "4  2019-01-11T06:46:55.147751    40.8649    28.2378       10.0  "
      ]
     },
     "execution_count": 8,
     "metadata": {},
     "output_type": "execute_result"
    }
   ],
   "source": [
    "kara74_df.head()"
   ]
  },
  {
   "cell_type": "code",
   "execution_count": 9,
   "id": "3e6b74fa",
   "metadata": {},
   "outputs": [
    {
     "data": {
      "text/html": [
       "<div>\n",
       "<style scoped>\n",
       "    .dataframe tbody tr th:only-of-type {\n",
       "        vertical-align: middle;\n",
       "    }\n",
       "\n",
       "    .dataframe tbody tr th {\n",
       "        vertical-align: top;\n",
       "    }\n",
       "\n",
       "    .dataframe thead th {\n",
       "        text-align: right;\n",
       "    }\n",
       "</style>\n",
       "<table border=\"1\" class=\"dataframe\">\n",
       "  <thead>\n",
       "    <tr style=\"text-align: right;\">\n",
       "      <th></th>\n",
       "      <th>station</th>\n",
       "      <th>p_arrival_time</th>\n",
       "      <th>s_arrival_time</th>\n",
       "      <th>event_lat</th>\n",
       "      <th>event_lon</th>\n",
       "      <th>event_dep</th>\n",
       "    </tr>\n",
       "  </thead>\n",
       "  <tbody>\n",
       "    <tr>\n",
       "      <th>0</th>\n",
       "      <td>ARMT</td>\n",
       "      <td>2019-09-20T16:53:49.840</td>\n",
       "      <td>NaN</td>\n",
       "      <td>40.963</td>\n",
       "      <td>28.308</td>\n",
       "      <td>29.2</td>\n",
       "    </tr>\n",
       "    <tr>\n",
       "      <th>1</th>\n",
       "      <td>BGKT</td>\n",
       "      <td>2019-09-20T16:53:49.690</td>\n",
       "      <td>2019-09-20T16:53:56.210</td>\n",
       "      <td>40.963</td>\n",
       "      <td>28.308</td>\n",
       "      <td>29.2</td>\n",
       "    </tr>\n",
       "    <tr>\n",
       "      <th>2</th>\n",
       "      <td>CTKS</td>\n",
       "      <td>2019-09-20T16:53:48.020</td>\n",
       "      <td>2019-09-20T16:53:53.990</td>\n",
       "      <td>40.963</td>\n",
       "      <td>28.308</td>\n",
       "      <td>29.2</td>\n",
       "    </tr>\n",
       "    <tr>\n",
       "      <th>3</th>\n",
       "      <td>EDRB</td>\n",
       "      <td>2019-09-20T16:54:08.520</td>\n",
       "      <td>NaN</td>\n",
       "      <td>40.963</td>\n",
       "      <td>28.308</td>\n",
       "      <td>29.2</td>\n",
       "    </tr>\n",
       "    <tr>\n",
       "      <th>4</th>\n",
       "      <td>ERIK</td>\n",
       "      <td>2019-09-20T16:54:05.310</td>\n",
       "      <td>NaN</td>\n",
       "      <td>40.963</td>\n",
       "      <td>28.308</td>\n",
       "      <td>29.2</td>\n",
       "    </tr>\n",
       "  </tbody>\n",
       "</table>\n",
       "</div>"
      ],
      "text/plain": [
       "  station           p_arrival_time           s_arrival_time  event_lat  \\\n",
       "0    ARMT  2019-09-20T16:53:49.840                      NaN     40.963   \n",
       "1    BGKT  2019-09-20T16:53:49.690  2019-09-20T16:53:56.210     40.963   \n",
       "2    CTKS  2019-09-20T16:53:48.020  2019-09-20T16:53:53.990     40.963   \n",
       "3    EDRB  2019-09-20T16:54:08.520                      NaN     40.963   \n",
       "4    ERIK  2019-09-20T16:54:05.310                      NaN     40.963   \n",
       "\n",
       "   event_lon  event_dep  \n",
       "0     28.308       29.2  \n",
       "1     28.308       29.2  \n",
       "2     28.308       29.2  \n",
       "3     28.308       29.2  \n",
       "4     28.308       29.2  "
      ]
     },
     "execution_count": 9,
     "metadata": {},
     "output_type": "execute_result"
    }
   ],
   "source": [
    "sezim_df.head()"
   ]
  },
  {
   "cell_type": "markdown",
   "id": "3b49a0a5",
   "metadata": {},
   "source": [
    "## Compare Unique Stations with Existing Stations"
   ]
  },
  {
   "cell_type": "code",
   "execution_count": 10,
   "id": "a443bf48",
   "metadata": {},
   "outputs": [],
   "source": [
    "stations_dir = '/home/boxx/Public/earthquake_model_evaluations/data/SilivriPaper_2019-09-01__2019-11-30/prepared_waveforms/day_by_day'"
   ]
  },
  {
   "cell_type": "code",
   "execution_count": null,
   "id": "7856caa4",
   "metadata": {},
   "outputs": [
    {
     "data": {
      "text/plain": [
       "['ADVT',\n",
       " 'CTKS',\n",
       " 'ERIK',\n",
       " 'TKR',\n",
       " 'IZI',\n",
       " 'SLVT',\n",
       " 'UKOP',\n",
       " 'BGKT',\n",
       " 'MRMT',\n",
       " 'ISK',\n",
       " 'KRBG',\n",
       " 'KLYT',\n",
       " 'YLV',\n",
       " 'KCTX',\n",
       " 'ARMT',\n",
       " 'ORLT',\n",
       " 'OSMT',\n",
       " 'LAP',\n",
       " 'KAVV',\n",
       " 'GONE',\n",
       " 'CRLT',\n",
       " 'GELI',\n",
       " 'HRTX',\n",
       " 'RKY',\n",
       " 'CTYL',\n",
       " 'MDNY',\n",
       " 'SILT',\n",
       " 'EZN',\n",
       " 'CAVI']"
      ]
     },
     "execution_count": 13,
     "metadata": {},
     "output_type": "execute_result"
    }
   ],
   "source": [
    "stations = []\n",
    "for (root, dirs, files) in os.walk(stations_dir):\n",
    "    for dir in dirs:\n",
    "        stations.append(dir)"
   ]
  },
  {
   "cell_type": "code",
   "execution_count": 26,
   "id": "07e45ab8",
   "metadata": {},
   "outputs": [],
   "source": [
    "def compare_df_stations(station_list, df):\n",
    "    unique_df_stations = set(df['station'].unique())\n",
    "    station_set = set(station_list)\n",
    "    print('Existing stations on the df: ', list(unique_df_stations & station_set))\n",
    "    print('Missing stations from the df: ', list(station_set - unique_df_stations))"
   ]
  },
  {
   "cell_type": "code",
   "execution_count": 28,
   "id": "4689cdc5",
   "metadata": {},
   "outputs": [
    {
     "name": "stdout",
     "output_type": "stream",
     "text": [
      "AFAD CATALOG:\n",
      "Existing stations on the df:  []\n",
      "Missing stations from the df:  ['SILT', 'KRBG', 'CAVI', 'KAVV', 'LAP', 'CTYL', 'HRTX', 'OSMT', 'GONE', 'ADVT', 'IZI', 'CTKS', 'UKOP', 'RKY', 'SLVT', 'BGKT', 'CRLT', 'TKR', 'ORLT', 'KCTX', 'ISK', 'MRMT', 'ARMT', 'YLV', 'GELI', 'EZN', 'KLYT', 'ERIK', 'MDNY']\n",
      "KANDILLI CATALOG:\n",
      "Existing stations on the df:  ['SILT', 'KRBG', 'CAVI', 'KAVV', 'LAP', 'CTYL', 'HRTX', 'OSMT', 'GONE', 'ADVT', 'IZI', 'CTKS', 'UKOP', 'RKY', 'SLVT', 'BGKT', 'CRLT', 'TKR', 'ORLT', 'KCTX', 'ISK', 'MRMT', 'ARMT', 'YLV', 'GELI', 'EZN', 'KLYT', 'ERIK', 'MDNY']\n",
      "Missing stations from the df:  []\n",
      "KARA74 CATALOG:\n",
      "Existing stations on the df:  ['SILT', 'KRBG', 'CAVI', 'KAVV', 'LAP', 'CTYL', 'HRTX', 'OSMT', 'GONE', 'ADVT', 'IZI', 'CTKS', 'UKOP', 'SLVT', 'BGKT', 'TKR', 'ORLT', 'KCTX', 'ISK', 'MRMT', 'ARMT', 'YLV', 'GELI', 'KLYT', 'ERIK', 'MDNY']\n",
      "Missing stations from the df:  ['CRLT', 'EZN', 'RKY']\n",
      "SEZIM HOCA CATALOG:\n",
      "Existing stations on the df:  ['SILT', 'KRBG', 'KAVV', 'LAP', 'CTYL', 'HRTX', 'OSMT', 'GONE', 'ADVT', 'CTKS', 'UKOP', 'SLVT', 'BGKT', 'TKR', 'ORLT', 'KCTX', 'ISK', 'MRMT', 'ARMT', 'GELI', 'EZN', 'KLYT', 'ERIK', 'MDNY']\n",
      "Missing stations from the df:  ['IZI', 'RKY', 'YLV', 'CAVI', 'CRLT']\n"
     ]
    }
   ],
   "source": [
    "print('AFAD CATALOG:')\n",
    "compare_df_stations(station_list=stations, df=afad_df)\n",
    "print('KANDILLI CATALOG:')\n",
    "compare_df_stations(station_list=stations, df=kandilli_df)\n",
    "print('KARA74 CATALOG:')\n",
    "compare_df_stations(station_list=stations, df=kara74_df)\n",
    "print('SEZIM HOCA CATALOG:')\n",
    "compare_df_stations(station_list=stations, df=sezim_df)"
   ]
  },
  {
   "cell_type": "markdown",
   "id": "37f53484",
   "metadata": {},
   "source": [
    "#### Verdict: \n",
    "\n",
    "Kandilli and Kara74 catalogs are usable. "
   ]
  }
 ],
 "metadata": {
  "kernelspec": {
   "display_name": "onur-tfgpu",
   "language": "python",
   "name": "python3"
  },
  "language_info": {
   "codemirror_mode": {
    "name": "ipython",
    "version": 3
   },
   "file_extension": ".py",
   "mimetype": "text/x-python",
   "name": "python",
   "nbconvert_exporter": "python",
   "pygments_lexer": "ipython3",
   "version": "3.10.13"
  }
 },
 "nbformat": 4,
 "nbformat_minor": 5
}
