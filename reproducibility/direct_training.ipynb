{
 "cells": [
  {
   "cell_type": "code",
   "execution_count": 1,
   "id": "f1cfd6af",
   "metadata": {},
   "outputs": [
    {
     "name": "stderr",
     "output_type": "stream",
     "text": [
      "2025-07-02 01:59:38.429895: I tensorflow/core/util/port.cc:111] oneDNN custom operations are on. You may see slightly different numerical results due to floating-point round-off errors from different computation orders. To turn them off, set the environment variable `TF_ENABLE_ONEDNN_OPTS=0`.\n",
      "2025-07-02 01:59:38.448435: E tensorflow/compiler/xla/stream_executor/cuda/cuda_dnn.cc:9342] Unable to register cuDNN factory: Attempting to register factory for plugin cuDNN when one has already been registered\n",
      "2025-07-02 01:59:38.448451: E tensorflow/compiler/xla/stream_executor/cuda/cuda_fft.cc:609] Unable to register cuFFT factory: Attempting to register factory for plugin cuFFT when one has already been registered\n",
      "2025-07-02 01:59:38.448461: E tensorflow/compiler/xla/stream_executor/cuda/cuda_blas.cc:1518] Unable to register cuBLAS factory: Attempting to register factory for plugin cuBLAS when one has already been registered\n",
      "2025-07-02 01:59:38.452233: I tensorflow/core/platform/cpu_feature_guard.cc:182] This TensorFlow binary is optimized to use available CPU instructions in performance-critical operations.\n",
      "To enable the following instructions: AVX2 AVX_VNNI FMA, in other operations, rebuild TensorFlow with the appropriate compiler flags.\n"
     ]
    }
   ],
   "source": [
    "from direct_trainer import DirectTrainer\n",
    "from recovar import RepresentationLearningSingleAutoencoder, RepresentationLearningDenoisingSingleAutoencoder, RepresentationLearningMultipleAutoencoder"
   ]
  },
  {
   "cell_type": "code",
   "execution_count": 2,
   "id": "feaf54af",
   "metadata": {},
   "outputs": [],
   "source": [
    "from directory import (\n",
    "    STEAD_WAVEFORMS_HDF5_PATH,\n",
    "    STEAD_METADATA_CSV_PATH,\n",
    "    INSTANCE_EQ_WAVEFORMS_HDF5_PATH,\n",
    "    INSTANCE_NOISE_WAVEFORMS_HDF5_PATH,\n",
    "    INSTANCE_EQ_METADATA_CSV_PATH,\n",
    "    INSTANCE_NOISE_METADATA_CSV_PATH,\n",
    "    PREPROCESSED_DATASET_DIRECTORY,\n",
    ")"
   ]
  },
  {
   "cell_type": "code",
   "execution_count": 3,
   "id": "fa67e348",
   "metadata": {},
   "outputs": [],
   "source": [
    "trainer = DirectTrainer(dataset='stead',\n",
    "    dataset_time_window=60.0,  # STEAD has 60s windows\n",
    "    model_time_window=30.0\n",
    ")"
   ]
  },
  {
   "cell_type": "code",
   "execution_count": 6,
   "id": "3c3cea72",
   "metadata": {},
   "outputs": [
    {
     "name": "stderr",
     "output_type": "stream",
     "text": [
      "/home/ege/recovar/reproducibility/direct_trainer.py:139: DtypeWarning: Columns (21) have mixed types. Specify dtype option on import or set low_memory=False.\n",
      "  metadata = pd.read_csv(metadata_csv)\n"
     ]
    },
    {
     "name": "stdout",
     "output_type": "stream",
     "text": [
      "Total samples before subsampling: EQ=1030231, NO=235426\n",
      "After subsampling (0.5%): EQ=5151, NO=1177\n",
      "Warning: Not enough noise samples for ratio 0.5\n",
      "\n",
      "Creating dataset: SUBSAMPLED_0_NE_50.hdf5\n",
      "Total samples: 6328 (EQ: 5151, NO: 1177)\n",
      "Processed 1/24 batches...\n",
      "Processed 11/24 batches...\n",
      "Processed 21/24 batches...\n",
      "Dataset saved: /home/ege/recovar_data_preprocessed/SUBSAMPLED_0_NE_50.hdf5\n",
      "Warning: Not enough noise samples for ratio 0.7\n",
      "\n",
      "Creating dataset: SUBSAMPLED_0_NE_70.hdf5\n",
      "Total samples: 6328 (EQ: 5151, NO: 1177)\n",
      "Processed 1/24 batches...\n",
      "Processed 11/24 batches...\n",
      "Processed 21/24 batches...\n",
      "Dataset saved: /home/ege/recovar_data_preprocessed/SUBSAMPLED_0_NE_70.hdf5\n",
      "Warning: Not enough noise samples for ratio 1.0\n",
      "\n",
      "Creating dataset: SUBSAMPLED_0_NE_100.hdf5\n",
      "Total samples: 6328 (EQ: 5151, NO: 1177)\n",
      "Processed 1/24 batches...\n",
      "Processed 11/24 batches...\n",
      "Processed 21/24 batches...\n",
      "Dataset saved: /home/ege/recovar_data_preprocessed/SUBSAMPLED_0_NE_100.hdf5\n"
     ]
    }
   ],
   "source": [
    "# Create datasets with different noise/event ratios\n",
    "trainer.create_subsampled_datasets(dataset='stead',\n",
    "    output_dir=PREPROCESSED_DATASET_DIRECTORY,\n",
    "    noise_event_ratios=[0.5, 0.7, 1.0],\n",
    "    subsampling_factor=0.005\n",
    ")"
   ]
  },
  {
   "cell_type": "code",
   "execution_count": 4,
   "id": "8410cfba",
   "metadata": {},
   "outputs": [
    {
     "name": "stderr",
     "output_type": "stream",
     "text": [
      "2025-07-02 01:59:44.157444: I tensorflow/compiler/xla/stream_executor/cuda/cuda_gpu_executor.cc:894] successful NUMA node read from SysFS had negative value (-1), but there must be at least one NUMA node, so returning NUMA node zero. See more at https://github.com/torvalds/linux/blob/v6.0/Documentation/ABI/testing/sysfs-bus-pci#L344-L355\n",
      "2025-07-02 01:59:44.171578: I tensorflow/compiler/xla/stream_executor/cuda/cuda_gpu_executor.cc:894] successful NUMA node read from SysFS had negative value (-1), but there must be at least one NUMA node, so returning NUMA node zero. See more at https://github.com/torvalds/linux/blob/v6.0/Documentation/ABI/testing/sysfs-bus-pci#L344-L355\n",
      "2025-07-02 01:59:44.171661: I tensorflow/compiler/xla/stream_executor/cuda/cuda_gpu_executor.cc:894] successful NUMA node read from SysFS had negative value (-1), but there must be at least one NUMA node, so returning NUMA node zero. See more at https://github.com/torvalds/linux/blob/v6.0/Documentation/ABI/testing/sysfs-bus-pci#L344-L355\n",
      "2025-07-02 01:59:44.172726: I tensorflow/compiler/xla/stream_executor/cuda/cuda_gpu_executor.cc:894] successful NUMA node read from SysFS had negative value (-1), but there must be at least one NUMA node, so returning NUMA node zero. See more at https://github.com/torvalds/linux/blob/v6.0/Documentation/ABI/testing/sysfs-bus-pci#L344-L355\n",
      "2025-07-02 01:59:44.172802: I tensorflow/compiler/xla/stream_executor/cuda/cuda_gpu_executor.cc:894] successful NUMA node read from SysFS had negative value (-1), but there must be at least one NUMA node, so returning NUMA node zero. See more at https://github.com/torvalds/linux/blob/v6.0/Documentation/ABI/testing/sysfs-bus-pci#L344-L355\n",
      "2025-07-02 01:59:44.172848: I tensorflow/compiler/xla/stream_executor/cuda/cuda_gpu_executor.cc:894] successful NUMA node read from SysFS had negative value (-1), but there must be at least one NUMA node, so returning NUMA node zero. See more at https://github.com/torvalds/linux/blob/v6.0/Documentation/ABI/testing/sysfs-bus-pci#L344-L355\n",
      "2025-07-02 01:59:44.440426: I tensorflow/compiler/xla/stream_executor/cuda/cuda_gpu_executor.cc:894] successful NUMA node read from SysFS had negative value (-1), but there must be at least one NUMA node, so returning NUMA node zero. See more at https://github.com/torvalds/linux/blob/v6.0/Documentation/ABI/testing/sysfs-bus-pci#L344-L355\n",
      "2025-07-02 01:59:44.440506: I tensorflow/compiler/xla/stream_executor/cuda/cuda_gpu_executor.cc:894] successful NUMA node read from SysFS had negative value (-1), but there must be at least one NUMA node, so returning NUMA node zero. See more at https://github.com/torvalds/linux/blob/v6.0/Documentation/ABI/testing/sysfs-bus-pci#L344-L355\n",
      "2025-07-02 01:59:44.440554: I tensorflow/compiler/xla/stream_executor/cuda/cuda_gpu_executor.cc:894] successful NUMA node read from SysFS had negative value (-1), but there must be at least one NUMA node, so returning NUMA node zero. See more at https://github.com/torvalds/linux/blob/v6.0/Documentation/ABI/testing/sysfs-bus-pci#L344-L355\n",
      "2025-07-02 01:59:44.440593: I tensorflow/core/common_runtime/gpu/gpu_device.cc:1886] Created device /job:localhost/replica:0/task:0/device:GPU:0 with 22141 MB memory:  -> device: 0, name: NVIDIA GeForce RTX 3090 Ti, pci bus id: 0000:01:00.0, compute capability: 8.6\n"
     ]
    },
    {
     "name": "stdout",
     "output_type": "stream",
     "text": [
      "Loaded dataset: /home/ege/recovar_data_preprocessed/SUBSAMPLED_0_NE_70.hdf5 with 6144 samples\n",
      "Loaded dataset: /home/ege/recovar_data_preprocessed/SUBSAMPLED_0_NE_50.hdf5 with 6144 samples\n",
      "\n",
      "Starting training...\n",
      "Train samples: 6144\n",
      "Val samples: 6144\n"
     ]
    },
    {
     "name": "stderr",
     "output_type": "stream",
     "text": [
      "2025-07-02 01:59:45.186390: I tensorflow/compiler/xla/stream_executor/cuda/cuda_dnn.cc:442] Loaded cuDNN version 8700\n",
      "2025-07-02 01:59:49.120327: I tensorflow/compiler/xla/service/service.cc:168] XLA service 0x7f844c0058e0 initialized for platform CUDA (this does not guarantee that XLA will be used). Devices:\n",
      "2025-07-02 01:59:49.120345: I tensorflow/compiler/xla/service/service.cc:176]   StreamExecutor device (0): NVIDIA GeForce RTX 3090 Ti, Compute Capability 8.6\n",
      "2025-07-02 01:59:49.122944: I tensorflow/compiler/mlir/tensorflow/utils/dump_mlir_util.cc:269] disabling MLIR crash reproducer, set env var `MLIR_CRASH_REPRODUCER_DIRECTORY` to enable.\n",
      "2025-07-02 01:59:49.171213: I ./tensorflow/compiler/jit/device_compiler.h:186] Compiled cluster using XLA!  This line is logged at most once for the lifetime of the process.\n"
     ]
    },
    {
     "name": "stdout",
     "output_type": "stream",
     "text": [
      "24/24 [==============================] - ETA: 0s - loss: 1.1833\n",
      "Epoch 1: val_loss improved from inf to 1.39385, saving model to checkpoints/best_model.h5\n",
      "24/24 [==============================] - 7s 45ms/step - loss: 1.1833 - val_loss: 1.3938 - lr: 0.0010\n"
     ]
    }
   ],
   "source": [
    "model = RepresentationLearningSingleAutoencoder()\n",
    "\n",
    "history = trainer.train(\n",
    "    model=model,\n",
    "    train_dataset_path=\"/home/ege/recovar_data_preprocessed/SUBSAMPLED_0_NE_70.hdf5\",\n",
    "    val_dataset_path=\"/home/ege/recovar_data_preprocessed/SUBSAMPLED_0_NE_50.hdf5\",\n",
    "    epochs=1\n",
    ")"
   ]
  }
 ],
 "metadata": {
  "kernelspec": {
   "display_name": "RECOVAR_EGE",
   "language": "python",
   "name": "python3"
  },
  "language_info": {
   "codemirror_mode": {
    "name": "ipython",
    "version": 3
   },
   "file_extension": ".py",
   "mimetype": "text/x-python",
   "name": "python",
   "nbconvert_exporter": "python",
   "pygments_lexer": "ipython3",
   "version": "3.10.16"
  }
 },
 "nbformat": 4,
 "nbformat_minor": 5
}
