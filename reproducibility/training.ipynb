{
 "cells": [
  {
   "cell_type": "code",
   "execution_count": 2,
   "metadata": {},
   "outputs": [
    {
     "ename": "ImportError",
     "evalue": "cannot import name 'KfoldTrainer' from 'kfold_environment' (/home/onur/Code/recovar/reproducibility/kfold_environment.py)",
     "output_type": "error",
     "traceback": [
      "\u001b[0;31m---------------------------------------------------------------------------\u001b[0m",
      "\u001b[0;31mImportError\u001b[0m                               Traceback (most recent call last)",
      "Cell \u001b[0;32mIn[2], line 2\u001b[0m\n\u001b[1;32m      1\u001b[0m \u001b[38;5;28;01mfrom\u001b[39;00m \u001b[38;5;21;01mrecovar\u001b[39;00m \u001b[38;5;28;01mimport\u001b[39;00m RepresentationLearningSingleAutoencoder, RepresentationLearningDenoisingSingleAutoencoder, RepresentationLearningMultipleAutoencoder\n\u001b[0;32m----> 2\u001b[0m \u001b[38;5;28;01mfrom\u001b[39;00m \u001b[38;5;21;01mkfold_environment\u001b[39;00m \u001b[38;5;28;01mimport\u001b[39;00m KfoldTrainer\n\u001b[1;32m      3\u001b[0m \u001b[38;5;28;01mfrom\u001b[39;00m \u001b[38;5;21;01mconfig\u001b[39;00m \u001b[38;5;28;01mimport\u001b[39;00m KFOLD_SPLITS\n",
      "\u001b[0;31mImportError\u001b[0m: cannot import name 'KfoldTrainer' from 'kfold_environment' (/home/onur/Code/recovar/reproducibility/kfold_environment.py)"
     ]
    }
   ],
   "source": [
    "from recovar import RepresentationLearningSingleAutoencoder, RepresentationLearningDenoisingSingleAutoencoder, RepresentationLearningMultipleAutoencoder\n",
    "from kfold_trainer import KfoldTrainer\n",
    "from config import KFOLD_SPLITS"
   ]
  },
  {
   "cell_type": "code",
   "execution_count": null,
   "metadata": {},
   "outputs": [],
   "source": [
    "# Experiment name.\n",
    "EXP_NAME = \"exp_test\"\n",
    "\n",
    "# Should be one of the RepresentationLearningSingleAutoencoder, RepresentationLearningDenoisingSingleAutoencoder, RepresentationLearningMultipleAutoencoder\n",
    "MODEL_CLASSES = [RepresentationLearningSingleAutoencoder, RepresentationLearningDenoisingSingleAutoencoder, RepresentationLearningMultipleAutoencoder]\n",
    "\n",
    "# Should be stead or instance.\n",
    "DATASETS = [\"instance\", \"stead\"]\n",
    "\n",
    "# Number of epochs\n",
    "NUM_EPOCHS = 10"
   ]
  },
  {
   "cell_type": "code",
   "execution_count": null,
   "metadata": {},
   "outputs": [],
   "source": [
    "# For all splits, train the model over defined datasets.\n",
    "for train_dataset in DATASETS:\n",
    "    for model_class in MODEL_CLASSES:\n",
    "        for split in range(KFOLD_SPLITS):\n",
    "            kfold_trainer = KfoldTrainer(\n",
    "                EXP_NAME, model_class, train_dataset, split, epochs=NUM_EPOCHS\n",
    "            )\n",
    "            kfold_trainer.train()"
   ]
  }
 ],
 "metadata": {
  "kernelspec": {
   "display_name": "Python 3",
   "language": "python",
   "name": "python3"
  },
  "language_info": {
   "codemirror_mode": {
    "name": "ipython",
    "version": 3
   },
   "file_extension": ".py",
   "mimetype": "text/x-python",
   "name": "python",
   "nbconvert_exporter": "python",
   "pygments_lexer": "ipython3",
   "version": "3.10.13"
  }
 },
 "nbformat": 4,
 "nbformat_minor": 2
}
