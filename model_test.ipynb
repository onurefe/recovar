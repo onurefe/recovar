{
 "cells": [
  {
   "cell_type": "code",
   "execution_count": 2,
   "metadata": {},
   "outputs": [
    {
     "ename": "ImportError",
     "evalue": "cannot import name 'ClassifierAugmentedAutoencoder' from 'seismic_purifier.classifier_models' (/opt/anaconda3/envs/onur-tfgpu/lib/python3.10/site-packages/SeismicPurifier-0.1.0-py3.10.egg/seismic_purifier/classifier_models.py)",
     "output_type": "error",
     "traceback": [
      "\u001b[0;31m---------------------------------------------------------------------------\u001b[0m",
      "\u001b[0;31mImportError\u001b[0m                               Traceback (most recent call last)",
      "Cell \u001b[0;32mIn[2], line 11\u001b[0m\n\u001b[1;32m      5\u001b[0m \u001b[38;5;28;01mfrom\u001b[39;00m \u001b[38;5;21;01mrecovar\u001b[39;00m\u001b[38;5;21;01m.\u001b[39;00m\u001b[38;5;21;01mconfig\u001b[39;00m \u001b[38;5;28;01mimport\u001b[39;00m BATCH_SIZE\n\u001b[1;32m      6\u001b[0m \u001b[38;5;28;01mfrom\u001b[39;00m \u001b[38;5;21;01mrecovar\u001b[39;00m\u001b[38;5;21;01m.\u001b[39;00m\u001b[38;5;21;01mrepresentation_learning_models\u001b[39;00m \u001b[38;5;28;01mimport\u001b[39;00m (\n\u001b[1;32m      7\u001b[0m     RepresentationLearningSingleAutoencoder,\n\u001b[1;32m      8\u001b[0m     RepresentationLearningDenoisingSingleAutoencoder,\n\u001b[1;32m      9\u001b[0m     RepresentationLearningMultipleAutoencoder\n\u001b[1;32m     10\u001b[0m )\n\u001b[0;32m---> 11\u001b[0m \u001b[38;5;28;01mfrom\u001b[39;00m \u001b[38;5;21;01mseismic_purifier\u001b[39;00m\u001b[38;5;21;01m.\u001b[39;00m\u001b[38;5;21;01mclassifier_models\u001b[39;00m \u001b[38;5;28;01mimport\u001b[39;00m (\n\u001b[1;32m     12\u001b[0m     ClassifierAutocovariance, \n\u001b[1;32m     13\u001b[0m     ClassifierAugmentedAutoencoder, \n\u001b[1;32m     14\u001b[0m     ClassifierMultipleAutoencoder\n\u001b[1;32m     15\u001b[0m )\n\u001b[1;32m     16\u001b[0m \u001b[38;5;28;01mfrom\u001b[39;00m \u001b[38;5;21;01msklearn\u001b[39;00m\u001b[38;5;21;01m.\u001b[39;00m\u001b[38;5;21;01mmetrics\u001b[39;00m \u001b[38;5;28;01mimport\u001b[39;00m precision_score, recall_score, f1_score, roc_curve, roc_auc_score\n\u001b[1;32m     17\u001b[0m \u001b[38;5;28;01mimport\u001b[39;00m \u001b[38;5;21;01mmatplotlib\u001b[39;00m\u001b[38;5;21;01m.\u001b[39;00m\u001b[38;5;21;01mpyplot\u001b[39;00m \u001b[38;5;28;01mas\u001b[39;00m \u001b[38;5;21;01mplt\u001b[39;00m\n",
      "\u001b[0;31mImportError\u001b[0m: cannot import name 'ClassifierAugmentedAutoencoder' from 'seismic_purifier.classifier_models' (/opt/anaconda3/envs/onur-tfgpu/lib/python3.10/site-packages/SeismicPurifier-0.1.0-py3.10.egg/seismic_purifier/classifier_models.py)"
     ]
    }
   ],
   "source": [
    "import tensorflow as tf\n",
    "from tensorflow import keras\n",
    "import numpy as np\n",
    "import os\n",
    "from recovar.config import BATCH_SIZE\n",
    "from recovar.representation_learning_models import (\n",
    "    RepresentationLearningSingleAutoencoder,\n",
    "    RepresentationLearningDenoisingSingleAutoencoder,\n",
    "    RepresentationLearningMultipleAutoencoder\n",
    ")\n",
    "from recovar.classifier_models import (\n",
    "    ClassifierAutocovariance, \n",
    "    ClassifierAugmentedAutoencoder, \n",
    "    ClassifierMultipleAutoencoder\n",
    ")\n",
    "from sklearn.metrics import precision_score, recall_score, f1_score, roc_curve, roc_auc_score\n",
    "import matplotlib.pyplot as plt"
   ]
  },
  {
   "cell_type": "code",
   "execution_count": 2,
   "metadata": {},
   "outputs": [],
   "source": [
    "# ============================\n",
    "# 1. Configuration\n",
    "# ============================\n",
    "\n",
    "# Paths to your data\n",
    "TEST_DATA_PATH = 'data/X_test_1280sample.npy'  # Replace with your actual path\n",
    "TEST_LABEL_PATH = 'data/Y_test_1280sample.npy'  # Replace with your actual path\n",
    "\n",
    "# Paths to your model\n",
    "MODEL_PATH = 'models/representation_cross_covariances.h5'"
   ]
  },
  {
   "cell_type": "code",
   "execution_count": 3,
   "metadata": {},
   "outputs": [
    {
     "name": "stdout",
     "output_type": "stream",
     "text": [
      "Test data shape: (1280, 3000, 3)\n",
      "Test label shape: (1280,)\n"
     ]
    }
   ],
   "source": [
    "# ============================\n",
    "# 2. Data loading\n",
    "# ============================\n",
    "X_test = np.load(TEST_DATA_PATH)\n",
    "print(f\"Test data shape: {X_test.shape}\")\n",
    "\n",
    "Y_test = np.load(TEST_LABEL_PATH)  # Expected shape: (num_samples)\n",
    "print(f\"Test label shape: {Y_test.shape}\")"
   ]
  },
  {
   "cell_type": "code",
   "execution_count": 4,
   "metadata": {},
   "outputs": [
    {
     "name": "stderr",
     "output_type": "stream",
     "text": [
      "2024-09-24 04:31:34.710439: I tensorflow/compiler/xla/stream_executor/cuda/cuda_gpu_executor.cc:894] successful NUMA node read from SysFS had negative value (-1), but there must be at least one NUMA node, so returning NUMA node zero. See more at https://github.com/torvalds/linux/blob/v6.0/Documentation/ABI/testing/sysfs-bus-pci#L344-L355\n",
      "2024-09-24 04:31:34.726224: I tensorflow/compiler/xla/stream_executor/cuda/cuda_gpu_executor.cc:894] successful NUMA node read from SysFS had negative value (-1), but there must be at least one NUMA node, so returning NUMA node zero. See more at https://github.com/torvalds/linux/blob/v6.0/Documentation/ABI/testing/sysfs-bus-pci#L344-L355\n",
      "2024-09-24 04:31:34.726312: I tensorflow/compiler/xla/stream_executor/cuda/cuda_gpu_executor.cc:894] successful NUMA node read from SysFS had negative value (-1), but there must be at least one NUMA node, so returning NUMA node zero. See more at https://github.com/torvalds/linux/blob/v6.0/Documentation/ABI/testing/sysfs-bus-pci#L344-L355\n",
      "2024-09-24 04:31:34.726998: I tensorflow/compiler/xla/stream_executor/cuda/cuda_gpu_executor.cc:894] successful NUMA node read from SysFS had negative value (-1), but there must be at least one NUMA node, so returning NUMA node zero. See more at https://github.com/torvalds/linux/blob/v6.0/Documentation/ABI/testing/sysfs-bus-pci#L344-L355\n",
      "2024-09-24 04:31:34.727057: I tensorflow/compiler/xla/stream_executor/cuda/cuda_gpu_executor.cc:894] successful NUMA node read from SysFS had negative value (-1), but there must be at least one NUMA node, so returning NUMA node zero. See more at https://github.com/torvalds/linux/blob/v6.0/Documentation/ABI/testing/sysfs-bus-pci#L344-L355\n",
      "2024-09-24 04:31:34.727095: I tensorflow/compiler/xla/stream_executor/cuda/cuda_gpu_executor.cc:894] successful NUMA node read from SysFS had negative value (-1), but there must be at least one NUMA node, so returning NUMA node zero. See more at https://github.com/torvalds/linux/blob/v6.0/Documentation/ABI/testing/sysfs-bus-pci#L344-L355\n",
      "2024-09-24 04:31:35.001054: I tensorflow/compiler/xla/stream_executor/cuda/cuda_gpu_executor.cc:894] successful NUMA node read from SysFS had negative value (-1), but there must be at least one NUMA node, so returning NUMA node zero. See more at https://github.com/torvalds/linux/blob/v6.0/Documentation/ABI/testing/sysfs-bus-pci#L344-L355\n",
      "2024-09-24 04:31:35.001137: I tensorflow/compiler/xla/stream_executor/cuda/cuda_gpu_executor.cc:894] successful NUMA node read from SysFS had negative value (-1), but there must be at least one NUMA node, so returning NUMA node zero. See more at https://github.com/torvalds/linux/blob/v6.0/Documentation/ABI/testing/sysfs-bus-pci#L344-L355\n",
      "2024-09-24 04:31:35.001189: I tensorflow/compiler/xla/stream_executor/cuda/cuda_gpu_executor.cc:894] successful NUMA node read from SysFS had negative value (-1), but there must be at least one NUMA node, so returning NUMA node zero. See more at https://github.com/torvalds/linux/blob/v6.0/Documentation/ABI/testing/sysfs-bus-pci#L344-L355\n",
      "2024-09-24 04:31:35.001227: I tensorflow/core/common_runtime/gpu/gpu_device.cc:1886] Created device /job:localhost/replica:0/task:0/device:GPU:0 with 21619 MB memory:  -> device: 0, name: NVIDIA GeForce RTX 3090 Ti, pci bus id: 0000:01:00.0, compute capability: 8.6\n"
     ]
    }
   ],
   "source": [
    "# ============================\n",
    "# 3. Representation Learning Model Instantiation\n",
    "# ============================\n",
    "\n",
    "# Choose the model you want to train\n",
    "# For example, using RepresentationLearningSingleAutoencoder\n",
    "#model = RepresentationLearningSingleAutoencoder(\n",
    "#    name=\"rep_learning_autoencoder\"\n",
    "#)\n",
    "\n",
    "# Alternatively, you can choose other models:\n",
    "# model = RepresentationLearningDenoisingSingleAutoencoder(\n",
    "#     name=\"rep_learning_denoising_autoencoder\",\n",
    "#     input_noise_std=1e-6,\n",
    "#     denoising_noise_std=2e-1\n",
    "# )\n",
    "model = RepresentationLearningMultipleAutoencoder(\n",
    "     name=\"rep_learning_autoencoder_ensemble\",\n",
    "     input_noise_std=1e-6,\n",
    "     eps=1e-27\n",
    ")"
   ]
  },
  {
   "cell_type": "code",
   "execution_count": 5,
   "metadata": {},
   "outputs": [
    {
     "name": "stderr",
     "output_type": "stream",
     "text": [
      "2024-09-24 04:31:35.788357: I tensorflow/compiler/xla/stream_executor/cuda/cuda_dnn.cc:442] Loaded cuDNN version 8700\n"
     ]
    }
   ],
   "source": [
    "# ============================\n",
    "# 4. Model Compilation\n",
    "# ============================\n",
    "model.compile()\n",
    "model(X_test)\n",
    "model.load_weights(MODEL_PATH)"
   ]
  },
  {
   "cell_type": "code",
   "execution_count": 6,
   "metadata": {},
   "outputs": [
    {
     "data": {
      "text/plain": [
       "'Note: One should be careful about the compatibility of the classifier wrappers with the models. RepresentationLearningSingleAutoencoder and RepresentationLearningDenoising\\nAutoencoder are compatible with ClassifierAutocovariance, ClassifierAugmentedAutoencoder. However, RepresentationLearningMultipleAutoencoder is only compatible with \\nClassifierMultipleAutoencoder. '"
      ]
     },
     "execution_count": 6,
     "metadata": {},
     "output_type": "execute_result"
    }
   ],
   "source": [
    "# ============================\n",
    "# 5. Classifier Model Instantiation\n",
    "# ============================\n",
    "\n",
    "# Choose the model for classification. This is just for convenience, these models are actually wrappers around\n",
    "#representation learning models.\n",
    "# For example, using RepresentationLearningSingleAutoencoder\n",
    "# model_classifier = ClassifierAutocovariance(model)\n",
    "\n",
    "# Alternatively, you can choose other wrappers. \n",
    "# model_classifier = ClassifierAugmentedAutoencoder(model)\n",
    "model_classifier = ClassifierMultipleAutoencoder(model)\n",
    "\n",
    "\"\"\"Note: One should be careful about the compatibility of the classifier wrappers with the models. RepresentationLearningSingleAutoencoder and RepresentationLearningDenoising\n",
    "Autoencoder are compatible with ClassifierAutocovariance, ClassifierAugmentedAutoencoder. However, RepresentationLearningMultipleAutoencoder is only compatible with \n",
    "ClassifierMultipleAutoencoder. \"\"\""
   ]
  },
  {
   "cell_type": "code",
   "execution_count": 7,
   "metadata": {},
   "outputs": [],
   "source": [
    "# ============================\n",
    "# 6. Obtain earthquake probabilities\n",
    "# ============================\n",
    "earthquake_scores = model_classifier(X_test)"
   ]
  },
  {
   "cell_type": "code",
   "execution_count": 8,
   "metadata": {},
   "outputs": [
    {
     "name": "stdout",
     "output_type": "stream",
     "text": []
    }
   ],
   "source": [
    "# ============================\n",
    "# 7. Plot ROC curve.\n",
    "# ============================\n",
    "fpr, tpr, __ = roc_curve(Y_test, earthquake_scores)\n",
    "auc_score = roc_auc_score(y_true=Y_test, y_score=earthquake_scores)\n",
    "plt.figure(figsize=(8, 6))\n",
    "plt.plot(fpr, tpr, color='blue', lw=2, label=f'ROC Curve (AUC = {auc_score:.3f})')\n",
    "plt.plot([0, 1], [0, 1], color='red', lw=2, linestyle='--', label='Random Classifier')\n",
    "\n",
    "plt.xlabel('False Positive Rate (FPR)', fontsize=14)\n",
    "plt.ylabel('True Positive Rate (TPR)', fontsize=14)\n",
    "plt.title('Receiver Operating Characteristic (ROC) Curve', fontsize=16)\n",
    "plt.legend(loc='lower right', fontsize=12)\n",
    "plt.grid(True, linestyle='--', alpha=0.5)\n",
    "plt.show()"
   ]
  }
 ],
 "metadata": {
  "kernelspec": {
   "display_name": "onur-tfgpu",
   "language": "python",
   "name": "python3"
  },
  "language_info": {
   "codemirror_mode": {
    "name": "ipython",
    "version": 3
   },
   "file_extension": ".py",
   "mimetype": "text/x-python",
   "name": "python",
   "nbconvert_exporter": "python",
   "pygments_lexer": "ipython3",
   "version": "3.10.13"
  }
 },
 "nbformat": 4,
 "nbformat_minor": 2
}
